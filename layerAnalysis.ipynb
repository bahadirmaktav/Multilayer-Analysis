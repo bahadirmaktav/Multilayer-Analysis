{
 "cells": [
  {
   "cell_type": "code",
   "execution_count": null,
   "metadata": {},
   "outputs": [],
   "source": [
    "import numpy as np\n",
    "import math\n",
    "import matplotlib.pyplot as plt\n",
    "\n",
    "class LayerAnalysis:\n",
    "    # ------------ Matrix Calculation Functions ------------\n",
    "    def LayerMatrixCal(dynamicalMatrix, inverseDynamicalMatrix, TranslationalMatrix):\n",
    "        return dynamicalMatrix.dot(TranslationalMatrix).dot(inverseDynamicalMatrix)\n",
    "\n",
    "    def DynamicalMatrixCal(refractiveIndex):\n",
    "        dynamicalMatrix = np.ones((2, 2),dtype=complex)\n",
    "        dynamicalMatrix[1][0] = refractiveIndex\n",
    "        dynamicalMatrix[1][1] = -refractiveIndex\n",
    "        return dynamicalMatrix\n",
    "\n",
    "    def InverseDynamicalMatrixCal(dynamicalMatrix):\n",
    "        return np.linalg.inv(dynamicalMatrix)\n",
    "\n",
    "    def TranslationalMatrixCal(thickness, wavelength, refractiveIndex):\n",
    "        translationalMatrix = np.zeros((2, 2),dtype = complex)\n",
    "        phase = 2*math.pi*thickness*refractiveIndex/wavelength\n",
    "        translationalMatrix[0][0] = complex(math.cos(phase.real)*math.exp(-1*phase.imag),math.sin(phase.real)*math.exp(-1*phase.imag))\n",
    "        translationalMatrix[1][1] = complex(math.cos(phase.real)*math.exp(phase.imag),-1.0 * math.sin(phase.real)*math.exp(phase.imag))\n",
    "        return translationalMatrix\n",
    "    # -------------------------------------------------------\n",
    "\n",
    "class Layer(LayerAnalysis):\n",
    "    def __init__(self, designWaveLength, thicknessDividerCoefficient, refrectiveIndex, isThicknessPredefined, wavelength, matrixType = 1, thickness = 1):\n",
    "        self.designWaveLength = designWaveLength\n",
    "        self.thicknessDividerCoefficient = thicknessDividerCoefficient\n",
    "        self.refrectiveIndex = refrectiveIndex\n",
    "        self.wavelength = wavelength\n",
    "        self.isThicknessPredefined = isThicknessPredefined\n",
    "        self.thickness = thickness if isThicknessPredefined else (designWaveLength / (thicknessDividerCoefficient * refrectiveIndex))\n",
    "        self.matrixType = matrixType\n",
    "        if(matrixType == 1):\n",
    "            return self.LayerMatrixCal(self.DynamicalMatrixCal(refrectiveIndex),self.InverseDynamicalMatrixCal(self.DynamicalMatrixCal(refrectiveIndex),self.TranslationalMatrixCal(thickness,wavelength,refrectiveIndex)))\n",
    "        elif(matrixType == 2):\n",
    "            return self.DynamicalMatrixCal(refrectiveIndex)\n",
    "        else:\n",
    "            return self.InverseDynamicalMatrixCal(self.DynamicalMatrixCal(refrectiveIndex))\n",
    "        "
   ]
  }
 ],
 "metadata": {
  "language_info": {
   "name": "python"
  },
  "orig_nbformat": 4
 },
 "nbformat": 4,
 "nbformat_minor": 2
}
