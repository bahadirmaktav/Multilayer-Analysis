{
 "cells": [
  {
   "cell_type": "code",
   "execution_count": null,
   "metadata": {},
   "outputs": [],
   "source": [
    "import numpy as np\n",
    "import math\n",
    "import matplotlib.pyplot as plt\n",
    "from layerAnalysis import Layer\n",
    "\n",
    "class MultilayerAnalysis:\n",
    "    \n",
    "    # ------------------ Results Functions ------------------\n",
    "    def ReflectanceCal(totalSystemMatrix):\n",
    "        return (abs(totalSystemMatrix[1][0]) / abs(totalSystemMatrix[0][0]))**2\n",
    "\n",
    "    def TransmittanceCal(totalSystemMatrix, subRefractiveIndex, airRefractiveIndex):\n",
    "        return (subRefractiveIndex / airRefractiveIndex) * ((1 / abs(totalSystemMatrix[0][0]))**2)\n",
    "\n",
    "    def AbsorptanceCal(self, totalSystemMatrix):\n",
    "        reflectance = self.ReflectanceCal(totalSystemMatrix)\n",
    "        transmittance = self.TransmittanceCal(totalSystemMatrix)\n",
    "        return (1.0 - reflectance - transmittance)\n",
    "    # -------------------------------------------------------\n"
   ]
  }
 ],
 "metadata": {
  "language_info": {
   "name": "python"
  },
  "orig_nbformat": 4
 },
 "nbformat": 4,
 "nbformat_minor": 2
}
